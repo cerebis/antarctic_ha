{
 "cells": [
  {
   "cell_type": "code",
   "execution_count": 1,
   "metadata": {
    "collapsed": true
   },
   "outputs": [],
   "source": [
    "# various modules used here.\n",
    "from matplotlib import gridspec\n",
    "from scipy.spatial.distance import pdist\n",
    "from scipy.cluster.hierarchy import linkage, dendrogram\n",
    "from scipy.ndimage.filters import gaussian_filter1d\n",
    "\n",
    "import scipy.stats as stats\n",
    "import matplotlib.colors as colors\n",
    "import matplotlib.pyplot as plt\n",
    "import matplotlib \n",
    "import numpy as np\n",
    "import pandas as pd\n",
    "import scipy\n",
    "import glob\n",
    "import yaml\n",
    "import pylab\n",
    "import polo\n",
    "import pandas\n",
    "import re"
   ]
  },
  {
   "cell_type": "code",
   "execution_count": 2,
   "metadata": {
    "collapsed": true
   },
   "outputs": [],
   "source": [
    "report = {}"
   ]
  },
  {
   "cell_type": "code",
   "execution_count": 328,
   "metadata": {
    "scrolled": false
   },
   "outputs": [
    {
     "name": "stdout",
     "output_type": "stream",
     "text": [
      "154.935 267.615\n"
     ]
    },
    {
     "data": {
      "image/png": "[encoded data removed]",
      "text/plain": [
       "<matplotlib.figure.Figure at 0x7fb7acc02a50>"
      ]
     },
     "metadata": {},
     "output_type": "display_data"
    }
   ],
   "source": [
    "# The following was applied manually for each organism directory, where some adjustments were made\n",
    "# due to sensitivity to the extracted ranges. Not a perfect algorithm.\n",
    "\n",
    "# scan over the directories for coverage files\n",
    "for fn in glob.glob('lacusprofundi_primary_replicon/*.txt'):\n",
    "    # read the data file\n",
    "    org, smpl = fn.split('/')\n",
    "    # remove the suffix\n",
    "    smpl = smpl[:-len('_coverage.txt')]\n",
    "    \n",
    "    this_report = {}\n",
    "    report.setdefault(org, {})[smpl] = this_report\n",
    "    \n",
    "    d = pd.read_csv(fn, delimiter='\\t', names=['_','x','depth'])\n",
    "    this_report['med_depth'] = float(np.median(d.depth))\n",
    "    \n",
    "    # create a histogram and determine the mode\n",
    "    h = np.histogram(d.depth, bins=200)\n",
    "    max_i = np.argmax(h[0])\n",
    "    \n",
    "    # to avoid fitting issues, we'll walk back either side of the\n",
    "    # peak to find a range on which to fit our gaussian\n",
    "    thres = 0.33\n",
    "    \n",
    "    max_v = h[0][max_i]\n",
    "    li = ui = max_i\n",
    "    while li >= 0 and ui < len(h[0]):\n",
    "        if h[0][li] < thres*max_v or h[0][ui] < thres*max_v:\n",
    "            break\n",
    "        li -= 1\n",
    "        ui += 1\n",
    "        \n",
    "    if li < 0:\n",
    "        li = 0\n",
    "    if ui >= len(h[0]):\n",
    "        ui = len(h[0])-1\n",
    "    \n",
    "    # lower/upper bound values\n",
    "    lb = h[1][li]\n",
    "    ub = h[1][ui]\n",
    "    print lb, ub\n",
    "    \n",
    "    this_report['bounds'] = [float(lb), float(ub)]\n",
    "    \n",
    "    # select only those data points between the determined bounds\n",
    "    ix = (d.depth>lb) & (d.depth<ub)\n",
    "    subrng = d.depth[ix]\n",
    "\n",
    "    # fit a gaussian to this sub-range\n",
    "    # assume the median as a starting point for the mean of the curve\n",
    "    params = stats.norm.fit(subrng, loc=this_report['med_depth'], scale=1.0)\n",
    "    this_report['fit'] = [float(v) for v in params]\n",
    "\n",
    "    # comparison plot of data to estimated distribution\n",
    "    pdf = stats.norm.pdf(np.arange(lb,ub), *params)\n",
    "    plt.figure(figsize=(10, 8))\n",
    "    plt.title('{} {}'.format(org,smpl))\n",
    "    plt.xlabel('depth (d)')\n",
    "    plt.ylabel('pdf(d)')\n",
    "    plt.hist(subrng, normed=True, bins=15)\n",
    "    plt.plot(np.arange(lb,ub), pdf)\n",
    "    plt.vlines(params[0], 0, np.max(pdf), colors='red', linestyles='-.')\n",
    "    plt.savefig('{}-{}.png'.format(org, smpl))\n",
    "    plt.show()\n",
    "    plt.close()\n",
    "    "
   ]
  },
  {
   "cell_type": "code",
   "execution_count": 329,
   "metadata": {
    "collapsed": true
   },
   "outputs": [],
   "source": [
    "# this was used to write out all the peak fitting results to a YAML format file.\n",
    "# YAML can be read by many languages and packages.\n",
    "with open('all_report.yaml', 'w') as out_h:\n",
    "    yaml.dump(report, out_h, default_flow_style=False)"
   ]
  },
  {
   "cell_type": "code",
   "execution_count": 2,
   "metadata": {
    "collapsed": true
   },
   "outputs": [],
   "source": [
    "\n",
    "def binning(data, step):\n",
    "    \"\"\"\n",
    "    Bin an array by step width, report the median of each bin\n",
    "    \"\"\"\n",
    "    meds = []\n",
    "    c = []\n",
    "    n = 0\n",
    "    bins = []\n",
    "    for ir in xrange(data.shape[0]):\n",
    "        if data[ir, 0] > (n+1)*step:\n",
    "            meds.append(np.median(c))\n",
    "            bins.append((n+1)*step)\n",
    "            n += 1\n",
    "            c = []\n",
    "        else:\n",
    "            c.append(data[ir, 1])\n",
    "    return np.array(meds), np.array(bins)\n",
    "\n",
    "def run_hclust(outname, meds, bins, step_size, tick_spc, savePlot=False):\n",
    "    \"\"\"\n",
    "    Cluster and plot the binned data matrix.\n",
    "    \"\"\"\n",
    "    \n",
    "    # just for indexing\n",
    "    names = meds.columns\n",
    "    \n",
    "    # normalise rows by their median value\n",
    "    D = meds.as_matrix().T\n",
    "    D = (D.T/np.median(D, 1)).T\n",
    "    # center rows on their medians\n",
    "    D = (D.T - np.median(D, 1)).T\n",
    "    \n",
    "    # clustering options. We will use correlation as measure of distance\n",
    "    # and complete linkage clustering\n",
    "    metric = 'correlation'\n",
    "    method = 'complete'\n",
    "    \n",
    "    # calculate\n",
    "    Y = linkage(D, method=method, metric=metric)\n",
    "    \n",
    "    # additionally, find optimal leaf ordering\n",
    "    Yopt = polo.optimal_leaf_ordering(Y, pdist(D, metric=metric))\n",
    "\n",
    "    # now we do some plotting\n",
    "    fig = plt.figure(figsize=(12, 8), dpi=150)\n",
    "    gs = gridspec.GridSpec(2, 2, width_ratios=[5, 2], height_ratios= [0.6,10]) \n",
    "    gs.update(wspace=0.08)\n",
    "\n",
    "    axmatrix = plt.subplot(gs[2])\n",
    "    axmatrix.set_xlabel('genomic coord (kbp)')\n",
    "    axcolor = plt.subplot(gs[0])\n",
    "    axcolor.set_title('median centered relative abundance ')\n",
    "    axdend = plt.subplot(gs[3])\n",
    "    axdend.set_xlabel('dist')\n",
    "\n",
    "    # calculate and plot the dendrogram\n",
    "    Z = dendrogram(Yopt, ax=axdend, orientation='right', no_labels=True, color_threshold=0 )\n",
    "    \n",
    "    # the tips (leaves) of the tree become the order for rows\n",
    "    idx = Z['leaves']\n",
    "    \n",
    "    # reorder rows\n",
    "    D = D[idx, :]\n",
    "\n",
    "    # the largest value in the matrix will set the upper and lower bounds\n",
    "    # for the heatmap color-range. This assures 0 as the center.\n",
    "    vmin = D.min() * 1.05\n",
    "    vmax = -vmin\n",
    "    \n",
    "    # plot the matrix, 5% extra bounds above and below on colour range\n",
    "    im = axmatrix.matshow(D, aspect='auto', origin='lower', cmap=pylab.cm.RdBu_r, \\\n",
    "                          norm=colors.Normalize(vmin=vmin, vmax=vmax) )\n",
    "\n",
    "    axmatrix.set_xticks([])\n",
    "    axmatrix.set_yticks([])\n",
    "\n",
    "    # try and get some useful axis labels\n",
    "    #xticks = np.linspace(0, max(bins) - max(bins) % step_size, 5)\n",
    "    #print xticks\n",
    "    \n",
    "    xticks = np.arange(0, len(bins), tick_spc) # every 100 bins\n",
    "    axmatrix.set_xticks(xticks)\n",
    "    axmatrix.set_xticklabels(xticks * step_size/1000)\n",
    "    axmatrix.set_yticks(range(D.shape[0]))\n",
    "    axmatrix.set_yticklabels(np.array(names)[idx], minor=False, )\n",
    "    axmatrix.xaxis.set_label_position('bottom')\n",
    "    axmatrix.xaxis.tick_bottom()\n",
    "\n",
    "    # Plot colorbar.\n",
    "    pylab.colorbar(im, cax=axcolor, orientation='horizontal')\n",
    "    \n",
    "    if savePlot:\n",
    "        plt.savefig('{}_hclust.pdf'.format(outname), bbox_inches='tight')\n",
    "        pd.DataFrame(D.T, columns=names).to_csv('{}_dat.csv'.format(outname))\n",
    "    else:\n",
    "        plt.show()\n",
    "        \n",
    "    plt.close()\n"
   ]
  },
  {
   "cell_type": "code",
   "execution_count": 3,
   "metadata": {
    "collapsed": true
   },
   "outputs": [],
   "source": [
    "# read in the per-position coverage data for each sample and bin to a corser size\n",
    "def get_block_medians(glob_path, step_size):\n",
    "\n",
    "    meds = []\n",
    "    bins = []\n",
    "    smpl_names = []\n",
    "\n",
    "    # manually parse each organism directory. Manually meaning, change this path\n",
    "    # for each one. Could be made a loop, but unnecessary for 3 runs\n",
    "    for fn in glob.glob(glob_path):\n",
    "        print fn\n",
    "\n",
    "        # read the data file\n",
    "        smpl = fn.split('/')[-1][:-len('_coverage.txt')]\n",
    "        smpl_names.append(smpl)\n",
    "\n",
    "        data = pd.read_csv(fn, delimiter='\\t', names=['_','x','depth'])\n",
    "        data = data.as_matrix()[:, 1:]\n",
    "        m, b = binning(data, step_size)\n",
    "        meds.append(m)\n",
    "        bins.append(b)\n",
    "\n",
    "    return pandas.DataFrame(np.vstack(meds).T, columns=smpl_names), bins\n",
    "\n"
   ]
  },
  {
   "cell_type": "code",
   "execution_count": 4,
   "metadata": {
    "collapsed": true,
    "scrolled": true
   },
   "outputs": [],
   "source": [
    "# working file names to publication names\n",
    "\n",
    "name_map = {'DL2006': 'Deep Lake 2006',\n",
    "'DL2008': 'Deep Lake 2008',\n",
    "'DL2013_Dec': 'Deep Lake 2013',\n",
    "'DL2014_Dec':'Deep Lake 2014',\n",
    "'DL2014_Jun': 'Deep Lake 2014 winter',\n",
    "'Club':'Club Lake',\n",
    "'Filla_3': 'Rauer 3 Lake',\n",
    "'Torckler_E6': 'Rauer 6 Lake',\n",
    "'Torckler_E11': 'Rauer 13 Lake'}\n"
   ]
  },
  {
   "cell_type": "code",
   "execution_count": 7,
   "metadata": {},
   "outputs": [
    {
     "name": "stdout",
     "output_type": "stream",
     "text": [
      "Removing Filla_E10\n",
      "2506841506_Club renamed to Club\n",
      "2506841506_DL2006 renamed to DL2006\n",
      "2506841506_DL2008 renamed to DL2008\n",
      "2506841506_DL2013_Dec renamed to DL2013_Dec\n",
      "2506841506_DL2014_Dec renamed to DL2014_Dec\n",
      "2506841506_DL2014_Jun renamed to DL2014_Jun\n",
      "2506841506_Filla_3 renamed to Filla_3\n",
      "2506841506_Torckler_E11 renamed to Torckler_E11\n",
      "2506841506_Torckler_E6 renamed to Torckler_E6\n"
     ]
    }
   ],
   "source": [
    "# prepare dataframe for publication.\n",
    "# throw an error if we did not rename 9 columns\n",
    "\n",
    "# remove the unwanted location\n",
    "for cn in meds.columns:\n",
    "    if re.match('.*Filla_E10.*',cn):\n",
    "        print 'Removing Filla_E10'\n",
    "        meds.drop(cn, axis=1, inplace=True)\n",
    "        break\n",
    "\n",
    "# rename the remainder\n",
    "new_names = []\n",
    "for cn in meds.columns:\n",
    "    for on in name_map:\n",
    "        p = '.*{}'.format(on)\n",
    "        m = re.match(p, cn)\n",
    "        if m:\n",
    "            print '{} renamed to {}'.format(cn, on)\n",
    "            new_names.append(name_map[on])\n",
    "            break\n",
    "\n",
    "if len(new_names) != 9:\n",
    "    raise RuntimeError('wrong number of columns')\n",
    "\n",
    "meds.columns = new_names\n"
   ]
  },
  {
   "cell_type": "code",
   "execution_count": 5,
   "metadata": {},
   "outputs": [],
   "source": [
    "# various statistics calculated above and saved in YAML format\n",
    "dat = yaml.load(open('all_report.yaml','r'))"
   ]
  },
  {
   "cell_type": "code",
   "execution_count": 11,
   "metadata": {},
   "outputs": [
    {
     "name": "stdout",
     "output_type": "stream",
     "text": [
      "../lacusprofundi_primary_replicon/643692017_Club_coverage.txt\n",
      "../lacusprofundi_primary_replicon/643692017_DL2006_coverage.txt\n",
      "../lacusprofundi_primary_replicon/643692017_DL2008_coverage.txt\n",
      "../lacusprofundi_primary_replicon/643692017_DL2013_Dec_coverage.txt\n",
      "../lacusprofundi_primary_replicon/643692017_DL2014_Dec_coverage.txt\n",
      "../lacusprofundi_primary_replicon/643692017_DL2014_Jun_coverage.txt\n",
      "../lacusprofundi_primary_replicon/643692017_Filla_3_coverage.txt\n",
      "../lacusprofundi_primary_replicon/643692017_Filla_E10_coverage.txt\n",
      "../lacusprofundi_primary_replicon/643692017_Torckler_E11_coverage.txt\n",
      "../lacusprofundi_primary_replicon/643692017_Torckler_E6_coverage.txt\n"
     ]
    }
   ],
   "source": [
    "# bp window size\n",
    "step = 5000\n",
    "\n",
    "# calculate the bins\n",
    "meds, bins = get_block_medians('../lacusprofundi_primary_replicon/*', step_size=step)"
   ]
  },
  {
   "cell_type": "code",
   "execution_count": 12,
   "metadata": {
    "collapsed": true
   },
   "outputs": [],
   "source": [
    "# perform hclust and plot\n",
    "run_hclust('lacus_5kb', meds, bins[0], step, 100, savePlot=True)"
   ]
  },
  {
   "cell_type": "code",
   "execution_count": null,
   "metadata": {
    "collapsed": true
   },
   "outputs": [],
   "source": []
  },
  {
   "cell_type": "code",
   "execution_count": 4,
   "metadata": {
    "scrolled": false
   },
   "outputs": [
    {
     "ename": "NameError",
     "evalue": "name 'dat' is not defined",
     "output_type": "error",
     "traceback": [
      "\u001b[0;31m---------------------------------------------------------------------------\u001b[0m",
      "\u001b[0;31mNameError\u001b[0m                                 Traceback (most recent call last)",
      "\u001b[0;32m<ipython-input-4-ad4ad9cc0124>\u001b[0m in \u001b[0;36m<module>\u001b[0;34m()\u001b[0m\n\u001b[1;32m     47\u001b[0m \u001b[0;34m\u001b[0m\u001b[0m\n\u001b[1;32m     48\u001b[0m \u001b[0;31m# chr of interest\u001b[0m\u001b[0;34m\u001b[0m\u001b[0;34m\u001b[0m\u001b[0m\n\u001b[0;32m---> 49\u001b[0;31m \u001b[0msamples\u001b[0m \u001b[0;34m=\u001b[0m \u001b[0mdat\u001b[0m\u001b[0;34m[\u001b[0m\u001b[0mgenome\u001b[0m\u001b[0;34m]\u001b[0m\u001b[0;34m\u001b[0m\u001b[0m\n\u001b[0m\u001b[1;32m     50\u001b[0m \u001b[0;34m\u001b[0m\u001b[0m\n\u001b[1;32m     51\u001b[0m \u001b[0;31m# per-sample list of windows to concatenate at the end\u001b[0m\u001b[0;34m\u001b[0m\u001b[0;34m\u001b[0m\u001b[0m\n",
      "\u001b[0;31mNameError\u001b[0m: name 'dat' is not defined"
     ]
    }
   ],
   "source": [
    "#\n",
    "#\n",
    "# unused methods\n",
    "#\n",
    "#\n",
    "\n",
    "def find_windows(x, mu, sig, smfac):\n",
    "    thres = mu - 3 * sig\n",
    "    d = gaussian_filter1d(x, sigma=smfac)\n",
    "    \n",
    "    #plt.figure(figsize=(14,6))\n",
    "    plt.plot(np.arange(len(d))*50,d)\n",
    "    plt.hlines(y=thres, xmin=0, xmax=len(d)*50, colors='red')\n",
    "    plt.ylim(0, mu+2*sig)\n",
    "    #plt.show()\n",
    "    \n",
    "    #print d, thres_min\n",
    "    x = np.where(d < thres)[0]\n",
    "    dx = np.diff(x)\n",
    "    # print d\n",
    "    # print x\n",
    "    # print dx\n",
    "\n",
    "    windows = []\n",
    "    n = 0\n",
    "    a = 0\n",
    "    for i in xrange(len(dx)):\n",
    "        if dx[i] == 1:\n",
    "            n += 1\n",
    "            if a == None:\n",
    "                a = i\n",
    "        else:\n",
    "            if n == 0:\n",
    "                continue\n",
    "            # print a, n, x[a:a+n], x[[a,a+n]], d[x[a:a+n]]\n",
    "            windows.append(x[[a,a+n]])\n",
    "            a = None\n",
    "            n = 0\n",
    "    \n",
    "    if n > 0:\n",
    "        windows.append(x[[a,a+n]])\n",
    "            \n",
    "    return np.array(windows)\n",
    "\n",
    "# block size used in median filter\n",
    "block_size = 50\n",
    "\n",
    "# window size in bp\n",
    "min_window = 1000\n",
    "\n",
    "genome = 'lacusprofundi_primary_replicon'\n",
    "\n",
    "# chr of interest\n",
    "samples = dat[genome]\n",
    "\n",
    "# per-sample list of windows to concatenate at the end\n",
    "dataframes = []\n",
    "\n",
    "# set up the big plot space\n",
    "plt.figure(1, figsize=(14,4*len(samples)))\n",
    "\n",
    "# for each smpl in the data set of the given genome\n",
    "for n, smpl in enumerate(meds.columns, 1):\n",
    "    \n",
    "    # from the report, get the mean and sigma for thresholding\n",
    "    mu = samples[smpl]['fit'][0]\n",
    "    sig = samples[smpl]['fit'][1]\n",
    "\n",
    "    plt.subplot(len(samples),1,n)\n",
    "    plt.title('{} --- mu={:.2f} sig={:.2f} thres={:.2f}'.format(smpl, mu, sig, mu-3*sig))\n",
    "    \n",
    "    # determine windows, with a small amount of smoothing.\n",
    "    w = find_windows(meds[smpl], mu, sig, 20)\n",
    "    # adjust window ranges to bp values\n",
    "    w *= block_size\n",
    "    \n",
    "    # indices of only those windows > min_window\n",
    "    if len(w) == 0:\n",
    "        print 'no windows found'\n",
    "        continue\n",
    "\n",
    "    ix = (np.diff(w, axis=1).T >= min_window)[0]\n",
    "    \n",
    "    # create and store a dataframe of these windows in the sample\n",
    "    wins = np.hstack((w[ix], (w[ix,1] - w[ix,0])[:,np.newaxis]))\n",
    "    rownames = ['{} window:{}'.format(smpl, i) for i in xrange(1,len(wins)+1)]\n",
    "    dataframes.append(pandas.DataFrame(wins, columns=['begin','end','length'], index=rownames))\n",
    "\n",
    "\n",
    "# save plots\n",
    "plt.subplots_adjust(top=0.92, bottom=0.08, left=0.10, right=0.95, hspace=0.5, wspace=0.35)\n",
    "plt.savefig('{}_windows.pdf'.format(genome))\n",
    "plt.close()\n",
    "\n",
    "# save table of windows\n",
    "df = pandas.concat(dataframes)\n",
    "df.to_csv('{}_windows.csv'.format(genome))\n"
   ]
  },
  {
   "cell_type": "code",
   "execution_count": null,
   "metadata": {
    "collapsed": true
   },
   "outputs": [],
   "source": []
  }
 ],
 "metadata": {
  "kernelspec": {
   "display_name": "Python 2",
   "language": "python",
   "name": "python2"
  },
  "language_info": {
   "codemirror_mode": {
    "name": "ipython",
    "version": 2
   },
   "file_extension": ".py",
   "mimetype": "text/x-python",
   "name": "python",
   "nbconvert_exporter": "python",
   "pygments_lexer": "ipython2",
   "version": "2.7.13"
  }
 },
 "nbformat": 4,
 "nbformat_minor": 2
}
